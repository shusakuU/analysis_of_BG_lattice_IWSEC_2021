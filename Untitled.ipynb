{
 "cells": [
  {
   "cell_type": "code",
   "execution_count": 9,
   "metadata": {},
   "outputs": [],
   "source": [
    "import os, json\n",
    "import numpy as np\n",
    "import pandas as pd"
   ]
  },
  {
   "cell_type": "code",
   "execution_count": 4,
   "metadata": {},
   "outputs": [],
   "source": [
    "def rounding(a):\n",
    "    x = np.round(a)+(((a%1)==0.5)*(a//1%2==0)).astype('int')\n",
    "    return x\n",
    "\n",
    "def center(a,q):\n",
    "    half_q = q/2\n",
    "    half_q = round(half_q) +(1 if (half_q)//1==0.5 and (half_q)%2==0 else 0) \n",
    "    return (a%q+half_q)%q - half_q"
   ]
  },
  {
   "cell_type": "code",
   "execution_count": 184,
   "metadata": {},
   "outputs": [],
   "source": [
    "folder = './result_/n_20_m_45_q_401_p_15_/'\n",
    "\n",
    "cnt_s_is_same = 0\n",
    "cnt_e_is_same = 0\n",
    "cnt_0_shortest = 0\n",
    "last_num = []\n",
    "idx = []\n",
    "for i in range(1,len(os.listdir(folder))+1):\n",
    "    with open(os.path.join(folder,f'{i}.json'),'r')as f:\n",
    "        j = json.load(f)\n",
    "        params = j['params']\n",
    "        n,m,q,p,sigma = params['n'],params['m'],params['q'],params['p'],params['sigma']\n",
    "        A = np.array(j['A'])\n",
    "        b = np.array(j['b'])\n",
    "        s = np.array(j['s'])\n",
    "        s = center(s,q)\n",
    "        B = np.array(j['B'])\n",
    "\n",
    "        e = center((b-A.dot(s))%q,q)\n",
    "        c = B[0,n:-1].copy()\n",
    "        sec = B[1,n:-1].copy()\n",
    "\n",
    "        \n",
    "        if ~B[0,:n].any():\n",
    "            ## shortestが (0000 になっていること\n",
    "            cnt_0_shortest += 1\n",
    "\n",
    "            if ~(B[1,:n].copy()-s).any() or ~(B[1,:n].copy()-s).any():\n",
    "                ## s が一致してる\n",
    "                cnt_s_is_same += 1\n",
    "\n",
    "                if ~(sec-e).any() or ~(sec+e).any():\n",
    "                    # eが一致\n",
    "                    cnt_e_is_same += 1\n",
    "                else:\n",
    "                    idx.append(i)\n",
    "                    last_num.append(B[1,-1])\n",
    "\n",
    "        "
   ]
  },
  {
   "cell_type": "code",
   "execution_count": 185,
   "metadata": {},
   "outputs": [
    {
     "data": {
      "text/plain": [
       "1000"
      ]
     },
     "execution_count": 185,
     "metadata": {},
     "output_type": "execute_result"
    }
   ],
   "source": [
    "cnt_0_shortest"
   ]
  },
  {
   "cell_type": "code",
   "execution_count": 186,
   "metadata": {},
   "outputs": [
    {
     "data": {
      "text/plain": [
       "449"
      ]
     },
     "execution_count": 186,
     "metadata": {},
     "output_type": "execute_result"
    }
   ],
   "source": [
    "cnt_s_is_same"
   ]
  },
  {
   "cell_type": "code",
   "execution_count": 187,
   "metadata": {},
   "outputs": [
    {
     "data": {
      "text/plain": [
       "8"
      ]
     },
     "execution_count": 187,
     "metadata": {},
     "output_type": "execute_result"
    }
   ],
   "source": [
    "cnt_s_is_same-cnt_e_is_same"
   ]
  },
  {
   "cell_type": "code",
   "execution_count": 3,
   "metadata": {},
   "outputs": [],
   "source": [
    "# c = B[0,n:-1].copy()\n",
    "# sec = B[1,n:-1].copy()\n",
    "# print(sec)\n",
    "# print(e)"
   ]
  },
  {
   "cell_type": "code",
   "execution_count": null,
   "metadata": {},
   "outputs": [],
   "source": []
  },
  {
   "cell_type": "code",
   "execution_count": 2,
   "metadata": {},
   "outputs": [],
   "source": [
    "# center((13*b)%q+A.dot(s),q)-sec"
   ]
  },
  {
   "cell_type": "code",
   "execution_count": 1,
   "metadata": {},
   "outputs": [],
   "source": [
    "# (center((13*b)%q+A.dot(s),q)**2).sum()"
   ]
  },
  {
   "cell_type": "code",
   "execution_count": null,
   "metadata": {},
   "outputs": [],
   "source": []
  },
  {
   "cell_type": "code",
   "execution_count": null,
   "metadata": {},
   "outputs": [],
   "source": []
  },
  {
   "cell_type": "code",
   "execution_count": null,
   "metadata": {},
   "outputs": [],
   "source": []
  },
  {
   "cell_type": "code",
   "execution_count": null,
   "metadata": {},
   "outputs": [],
   "source": []
  },
  {
   "cell_type": "code",
   "execution_count": null,
   "metadata": {},
   "outputs": [],
   "source": []
  },
  {
   "cell_type": "code",
   "execution_count": null,
   "metadata": {},
   "outputs": [],
   "source": []
  },
  {
   "cell_type": "code",
   "execution_count": null,
   "metadata": {},
   "outputs": [],
   "source": []
  }
 ],
 "metadata": {
  "kernelspec": {
   "display_name": "Python 3",
   "language": "python",
   "name": "python3"
  },
  "language_info": {
   "codemirror_mode": {
    "name": "ipython",
    "version": 3
   },
   "file_extension": ".py",
   "mimetype": "text/x-python",
   "name": "python",
   "nbconvert_exporter": "python",
   "pygments_lexer": "ipython3",
   "version": "3.7.6"
  }
 },
 "nbformat": 4,
 "nbformat_minor": 4
}
